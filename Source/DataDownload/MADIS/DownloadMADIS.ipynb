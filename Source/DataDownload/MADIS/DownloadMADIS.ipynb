{
 "cells": [
  {
   "metadata": {},
   "cell_type": "markdown",
   "source": "# Madis Download",
   "id": "b197b8558a3f257"
  },
  {
   "cell_type": "code",
   "execution_count": 2,
   "id": "a885513f-73eb-403f-b03e-796de1d7c79c",
   "metadata": {
    "ExecuteTime": {
     "end_time": "2024-06-15T17:56:37.248882Z",
     "start_time": "2024-06-15T17:56:37.246805Z"
    }
   },
   "outputs": [],
   "source": [
    "from dateutil import rrule\n",
    "from datetime import datetime\n",
    "import multiprocessing\n",
    "from pathlib import Path\n",
    "import xarray as xr\n",
    "import warnings\n",
    "import pandas as pd\n",
    "import tqdm\n",
    "from IPython.display import clear_output"
   ]
  },
  {
   "cell_type": "code",
   "execution_count": 3,
   "id": "42260f5a-d6b7-4755-b618-9ddca075559e",
   "metadata": {
    "ExecuteTime": {
     "end_time": "2024-06-15T17:55:57.051952Z",
     "start_time": "2024-06-15T17:55:57.049012Z"
    }
   },
   "outputs": [],
   "source": [
    "dataPath = Path('/Users/jonathangiezendanner/Documents/MIT/Projects/WindDataNE-US')\n",
    "targetFolder = dataPath / 'madis' / 'raw'\n",
    "targetFolder.mkdir(parents=True, exist_ok=True)"
   ]
  },
  {
   "cell_type": "code",
   "execution_count": 5,
   "id": "c192586c0bb50d83",
   "metadata": {
    "ExecuteTime": {
     "end_time": "2024-06-15T17:55:57.532022Z",
     "start_time": "2024-06-15T17:55:57.529904Z"
    }
   },
   "outputs": [],
   "source": [
    "mesonetUrl = lambda year, month, day, hour: f'https://madis-data.ncep.noaa.gov/madisPublic1/data/archive/{year}/{month:02d}/{day:02d}/LDAD/mesonet/netCDF/{year}{month:02d}{day:02d}_{hour:02d}00.gz'"
   ]
  },
  {
   "cell_type": "code",
   "execution_count": 6,
   "id": "e1fa3912-0446-4328-9484-4b6e7e5f9a11",
   "metadata": {},
   "outputs": [],
   "source": [
    "startDate = '2019-01-01'\n",
    "endDate = '2024-01-01'\n",
    "dt = rrule.HOURLY\n",
    "\n",
    "dates = list(rrule.rrule(dt, dtstart=datetime.strptime(startDate, '%Y-%m-%d'),\n",
    "                      until=datetime.strptime(endDate, '%Y-%m-%d')))[:-1]"
   ]
  },
  {
   "cell_type": "code",
   "execution_count": 7,
   "id": "f34bfd23-8b1b-4969-86d8-42bf98e2b37e",
   "metadata": {},
   "outputs": [],
   "source": ""
  },
  {
   "cell_type": "code",
   "execution_count": 8,
   "id": "87407387-eb93-433c-97bc-5b7c29392ff7",
   "metadata": {},
   "outputs": [],
   "source": [
    "def getDataForDate(date):\n",
    "    year = date.year\n",
    "    month = date.month\n",
    "    day = date.day\n",
    "    hour = date.hour\n",
    "    url = mesonetUrl(year, month, day, hour)\n",
    "    outputFile = targetFolder/f'{year}/{month}/mesonet/{year}{month:02d}{day:02d}_{hour:02d}00.gz'\n",
    "    if outputFile.exists():\n",
    "        return\n",
    "    \n",
    "    outputFile.parent.mkdir(parents=True, exist_ok=True)\n",
    "    outputFileStr = outputFile.as_posix()\n",
    "    \n",
    "    try:\n",
    "        !wget $url -O \"$outputFileStr\" --no-check-certificate\n",
    "    except:\n",
    "        print('ERRRORR')\n",
    "        print(date)\n",
    "        print('ERRRORR')\n",
    "        return"
   ]
  },
  {
   "cell_type": "code",
   "execution_count": 9,
   "id": "3eba5fcc-8331-4f61-a19d-646ed18a942e",
   "metadata": {
    "scrolled": true
   },
   "outputs": [],
   "source": [
    "with multiprocessing.Pool(128) as pool:\n",
    "    pool.map(getDataForDate, dates)"
   ]
  },
  {
   "metadata": {},
   "cell_type": "code",
   "outputs": [],
   "execution_count": null,
   "source": [
    "# for date in dates:\n",
    "#     getDataForDate(date)"
   ],
   "id": "783f1a198e9278bc"
  },
  {
   "cell_type": "code",
   "execution_count": null,
   "id": "fb436360-6991-4a11-b8dd-940e43f2bc87",
   "metadata": {},
   "outputs": [],
   "source": []
  },
  {
   "metadata": {},
   "cell_type": "markdown",
   "source": "# Concatenate MADIS data by Month",
   "id": "19546cd403fc1bc3"
  },
  {
   "metadata": {},
   "cell_type": "code",
   "outputs": [],
   "execution_count": 3,
   "source": "var_list = ['stationId', 'reportTime', 'latitude', 'longitude', 'elevation', 'dewpoint', 'dewpointDD', 'temperature', 'temperatureDD', 'windSpeed', 'windSpeedDD', 'windDir', 'windDirDD', 'relHumidity', 'relHumidityDD', 'dewpoint', 'dewpointDD', 'solarRadiation']",
   "id": "eb6a97ad4aff5563"
  },
  {
   "metadata": {},
   "cell_type": "code",
   "outputs": [],
   "execution_count": null,
   "source": "inputPath = lambda year, month: dataPath / f'{year}/{month}/mesonet/'",
   "id": "9ea9d186b0e4a8c7"
  },
  {
   "metadata": {},
   "cell_type": "code",
   "outputs": [],
   "execution_count": 5,
   "source": "targetPath = lambda year, month: dataPath.parent/'raw_monthly'/'mesonet'/str(year)",
   "id": "ae3964197b2fccd"
  },
  {
   "metadata": {},
   "cell_type": "code",
   "outputs": [],
   "execution_count": 6,
   "source": [
    "def processOnOpening(d):\n",
    "    d = d[var_list]\n",
    "    data_vars = {}\n",
    "    for varname in var_list:\n",
    "        data_vars[varname] = xr.Variable(\n",
    "            dims=d.data_vars[varname].dims,\n",
    "            data=d.data_vars[varname],\n",
    "            encoding={'chunks': d.data_vars[varname].shape})\n",
    "    data = xr.Dataset(data_vars=data_vars)\n",
    "    return data"
   ],
   "id": "2496175d3c44ab8a"
  },
  {
   "metadata": {},
   "cell_type": "code",
   "outputs": [],
   "execution_count": 7,
   "source": [
    "def processFile(file):\n",
    "    with warnings.catch_warnings():\n",
    "        warnings.simplefilter(\"ignore\")\n",
    "        # xr.open_dataset(datafiles[0])\n",
    "        data = xr.open_mfdataset(file, preprocess=processOnOpening)  #, coords='all')#, parallel=True)\n",
    "        data = data.to_pandas().reset_index(drop=True)\n",
    "        data.insert(0, 'minute', data.reportTime.dt.minute.values)\n",
    "        data.insert(0, 'hour', data.reportTime.dt.hour.values)\n",
    "        data.insert(0, 'day', data.reportTime.dt.day.values)\n",
    "        data.insert(0, 'month', data.reportTime.dt.month.values)\n",
    "        data.insert(0, 'year', data.reportTime.dt.year.values)\n",
    "        data = data.drop(columns='reportTime')\n",
    "    return data"
   ],
   "id": "4bda47d06d277055"
  },
  {
   "metadata": {},
   "cell_type": "code",
   "outputs": [],
   "execution_count": 11,
   "source": "",
   "id": "bb222a2c67e1676b"
  },
  {
   "metadata": {},
   "cell_type": "code",
   "outputs": [],
   "execution_count": null,
   "source": [
    "for year in range(2019, 2024):\n",
    "    for month in range(1, 13):\n",
    "        \n",
    "        outPath = targetPath(year, month)/(f'{month}.nc')\n",
    "        if outPath.exists():\n",
    "            continue\n",
    "        \n",
    "        datafiles = list(inputPath(year, month).glob('*.gz'))\n",
    "        out = []\n",
    "        with multiprocessing.Pool(32) as pool:\n",
    "            for result in tqdm.tqdm(pool.imap_unordered(processFile, datafiles), total=len(datafiles)):\n",
    "                out.append(result)\n",
    "        out = pd.concat(out).to_xarray()\n",
    "        \n",
    "        outPath.parent.mkdir(parents=True, exist_ok=True)\n",
    "        out.to_netcdf(outPath)\n",
    "    \n",
    "    clear_output(wait=False)"
   ],
   "id": "90c07bec286aca7"
  }
 ],
 "metadata": {
  "kernelspec": {
   "display_name": "Python 3 (ipykernel)",
   "language": "python",
   "name": "python3"
  },
  "language_info": {
   "codemirror_mode": {
    "name": "ipython",
    "version": 3
   },
   "file_extension": ".py",
   "mimetype": "text/x-python",
   "name": "python",
   "nbconvert_exporter": "python",
   "pygments_lexer": "ipython3",
   "version": "3.10.14"
  }
 },
 "nbformat": 4,
 "nbformat_minor": 5
}
