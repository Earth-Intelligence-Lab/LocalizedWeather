{
 "cells": [
  {
   "cell_type": "code",
   "execution_count": null,
   "id": "d98c492f-57ec-45ea-a53f-4b294afcd0b3",
   "metadata": {},
   "source": [
    "import json\n",
    "from pathlib import Path\n",
    "\n",
    "from Settings.Settings import *\n",
    "from Source import GNN_Main\n",
    "\n",
    "class AttrDict(dict):\n",
    "    def __getattr__(self, key):\n",
    "        return self[key]\n",
    "\n",
    "    def __setattr__(self, key, value):\n",
    "        self[key] = value"
   ],
   "outputs": []
  },
  {
   "cell_type": "code",
   "execution_count": null,
   "id": "831b22b0-fd76-46ef-88d5-b9e6d615b640",
   "metadata": {},
   "source": [
    "for era_5_nodes in [0,8]:\n",
    "    for lear_hour in [1,4,8,16,24,48,96]:\n",
    "        \n",
    "        args = AttrDict()\n",
    "        \n",
    "        model_name = 'MPNN'\n",
    "        \n",
    "        args.lead_hrs = lear_hour\n",
    "        args.n_neighbors_e2m = era_5_nodes\n",
    "        \n",
    "        args.output_saving_path = f'ModelOutputs/{model_name}_' + ''.join(\n",
    "            [f'_{k}={v.name if issubclass(type(v), Enum) else v}' for k, v in args.items()])\n",
    "        \n",
    "        ######### args after this are not included in path name\n",
    "        \n",
    "        args.static_node_image_size = 32\n",
    "        \n",
    "        args.coords = None\n",
    "        args.shapefile_path = 'Shapefiles/Regions/northeastern_buffered.shp'\n",
    "        args.back_hrs = 48\n",
    "        args.hidden_dim = 128\n",
    "        args.lr = 1e-4\n",
    "        args.epochs = 128\n",
    "        args.batch_size = 256\n",
    "        args.weight_decay = 1e-4\n",
    "        args.model_type = ModelType.GNN\n",
    "        args.n_years = 5\n",
    "        args.madis_control_ratio = .9\n",
    "        args.n_passing = 4\n",
    "        args.n_neighbors_m2m = 5\n",
    "        \n",
    "        save_args = args.copy()\n",
    "        \n",
    "        for k in save_args.keys():\n",
    "            v = save_args[k]\n",
    "            if issubclass(type(v), Enum):\n",
    "                save_args[k] = v.name\n",
    "        \n",
    "        args.eval_interval = 5\n",
    "        args.root_path = '/Users/jonathangiezendanner/Documents/MIT/Projects/WindData/'\n",
    "        args.show_progress_bar = True\n",
    "        \n",
    "        outputPath = (Path(args.root_path).parent / 'ModelOutputs' / args.output_saving_path / 'params.json')\n",
    "        \n",
    "        outputPath.parent.mkdir(exist_ok=True, parents=True)\n",
    "        \n",
    "        with open(outputPath, 'w') as f:\n",
    "            json.dump(save_args, f)\n",
    "        \n",
    "        GNN_Main.Run(args)\n"
   ],
   "outputs": []
  },
  {
   "cell_type": "code",
   "execution_count": null,
   "id": "c0eb2cd7-3845-4896-a749-fb8116d94175",
   "metadata": {},
   "source": [],
   "outputs": []
  }
 ],
 "metadata": {
  "kernelspec": {
   "display_name": "Python 3 (ipykernel)",
   "language": "python",
   "name": "python3"
  },
  "language_info": {
   "codemirror_mode": {
    "name": "ipython",
    "version": 3
   },
   "file_extension": ".py",
   "mimetype": "text/x-python",
   "name": "python",
   "nbconvert_exporter": "python",
   "pygments_lexer": "ipython3",
   "version": "3.8.12"
  }
 },
 "nbformat": 4,
 "nbformat_minor": 5
}
